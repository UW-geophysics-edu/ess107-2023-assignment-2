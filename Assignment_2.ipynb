{
 "cells": [
  {
   "cell_type": "markdown",
   "id": "c1f0ee9a",
   "metadata": {},
   "source": [
    "# Assignment 2\n",
    "---\n",
    "\n",
    "#### A common task for a data scientist is to take a dataset and summarize the main features of the dataset.  Using that perspective we'll investigate the dataset of Benson et al., (2020).\n",
    "\n",
    "> Benson, B., J. Magnuson, and S. Sharma. 2000, updated 2020. Global Lake and River Ice Phenology Database, Version 1. [Indicate subset used]. Boulder, Colorado USA. NSIDC: National Snow and Ice Data Center. https://doi.org/10.7265/N5W6\n",
    "\n",
    "## Learning outcomes\n",
    "\n",
    "#### 1. Be able to summarize important statistics of a data set\n",
    "- Understand the distribution of observations over different lakes in the frozen lake dataset\n",
    "\n",
    "#### 2. Fit a basic machine learning model using this dataset\n",
    "- Conceptually understand the process of fitting a straight line\n",
    "\n",
    "#### 3. Extract a climate signal from a real world dataset\n",
    "- Calculate probabilities of lake freezing\n",
    "\n",
    "---\n",
    "## Instructions\n",
    "\n",
    "1. Execute (shift-enter) each cell in this notebook in order.\n",
    "2. _Skim read_ each cell:  read over each line to get a sense of what is going on.  If you don't understand something, just keep going and note the context from the cell output.  We'll discuss the code in more detail verbally during the lab.\n",
    "3. Instructions that require you to do something (beyond just executing the cell) are written in **bold.**\n",
    "4. Answer the questions in Assignment 2 (on Canvas)\n",
    "\n",
    "---\n",
    "## About Lake Suwa\n",
    "From [Wikipedia](https://en.m.wikipedia.org/wiki/Lake_Suwa):\n",
    "> Lake Suwa is the site of a natural phenomenon known as the \"God's Crossing\" (御神渡り, o-miwatari), large cracks that form in the winter across the surface of the frozen lake. A vertical temperature gradient results in ice pressure ridges forming in the surface ice, reaching heights of 30 centimetres (1 ft) or more.\n"
   ]
  },
  {
   "cell_type": "markdown",
   "id": "74d757aa",
   "metadata": {},
   "source": [
    "![title](https://upload.wikimedia.org/wikipedia/commons/2/2b/Lake_Suwa_in_the_Shinano_province.jpg)\n",
    "![Image](https://upload.wikimedia.org/wikipedia/commons/6/68/180205_Lake_Suwa_omiwatari_01.jpg)"
   ]
  },
  {
   "cell_type": "markdown",
   "id": "17db9e13",
   "metadata": {},
   "source": []
  },
  {
   "cell_type": "markdown",
   "id": "03101dfe",
   "metadata": {},
   "source": [
    "# Part 1: Revisiting the frozen lake dataset"
   ]
  },
  {
   "cell_type": "code",
   "execution_count": null,
   "id": "3daac11d",
   "metadata": {},
   "outputs": [],
   "source": [
    "# Download the dataset\n",
    "\n",
    "import pandas as pd\n",
    "import geopandas as gpd\n",
    "import numpy as np\n",
    "\n",
    "url_1=\"ftp://sidads.colorado.edu/pub/DATASETS/NOAA/G01377/liag_freeze_thaw_table.csv\"\n",
    "df1=pd.read_csv(url_1)\n",
    "df1 = df1[df1.longitude>-999]\n",
    "lake_table = gpd.GeoDataFrame(df1, geometry=gpd.points_from_xy(df1.longitude, df1.latitude))"
   ]
  },
  {
   "cell_type": "code",
   "execution_count": null,
   "id": "ed3e8a37",
   "metadata": {},
   "outputs": [],
   "source": [
    "# Plot the dataset as a map\n",
    "\n",
    "import matplotlib.pyplot as plt\n",
    "fig,ax = plt.subplots(figsize = (15,15))\n",
    "world = gpd.read_file(gpd.datasets.get_path('naturalearth_lowres'))\n",
    "world.plot(ax=ax)\n",
    "lake_table.plot(ax = ax, markersize = 20, color = 'red',marker = '*',label = 'Delhi')\n",
    "plt.show()"
   ]
  },
  {
   "cell_type": "code",
   "execution_count": null,
   "id": "986bb864",
   "metadata": {},
   "outputs": [],
   "source": [
    "# Show the dataset as a table. use head() to just show the first few lines\n",
    "\n",
    "lake_table.head()"
   ]
  },
  {
   "cell_type": "markdown",
   "id": "75c9e8a7",
   "metadata": {},
   "source": [
    "### How many observations are there for each lake? \n",
    "Pandas has a nice built-in function to answer this question, ```value_counts()```:"
   ]
  },
  {
   "cell_type": "code",
   "execution_count": null,
   "id": "19d168fe",
   "metadata": {
    "scrolled": true
   },
   "outputs": [],
   "source": [
    "number_of_observations = lake_table['lakename'].value_counts()\n",
    "number_of_observations"
   ]
  },
  {
   "cell_type": "code",
   "execution_count": null,
   "id": "cd24e64c",
   "metadata": {},
   "outputs": [],
   "source": [
    "# Visualize the number of observations using a histogram\n",
    "plt.subplots(figsize=(16,9))\n",
    "plt.hist(number_of_observations,40)\n",
    "plt.xlabel('Number of observations of an individual lake')\n",
    "plt.ylabel('Number of lakes with X many observations')\n",
    "plt.show()"
   ]
  },
  {
   "cell_type": "code",
   "execution_count": null,
   "id": "3df949ec",
   "metadata": {},
   "outputs": [],
   "source": [
    "# Visualize the number of observations using a cumulative density plot\n",
    "plt.subplots(figsize=(16,9))\n",
    "plt.hist(number_of_observations,100,cumulative=True,density=True)\n",
    "plt.xlabel('Number of lakes')\n",
    "plt.ylabel('Fraction of lakes with at least X many observations')\n",
    "plt.plot((-100,600),(0.5,0.5),'-r')\n",
    "plt.plot((30,30),(0,1),'-r') # this is the answer to one of the quiz questions\n",
    "plt.xlim([0,550])\n",
    "plt.ylim([0,1.01])\n",
    "plt.show()"
   ]
  },
  {
   "cell_type": "markdown",
   "id": "4848612a",
   "metadata": {},
   "source": [
    "**For the assignment, you'll need to do some calculations with the number_of_observations variable**. You can do that with the information avaialble up to this point in the notebook.  This is a good time to start working on the assignment."
   ]
  },
  {
   "cell_type": "code",
   "execution_count": null,
   "id": "b55d22aa",
   "metadata": {},
   "outputs": [],
   "source": []
  },
  {
   "cell_type": "code",
   "execution_count": null,
   "id": "dd739925",
   "metadata": {},
   "outputs": [],
   "source": []
  },
  {
   "cell_type": "code",
   "execution_count": null,
   "id": "4fe2805a",
   "metadata": {},
   "outputs": [],
   "source": []
  },
  {
   "cell_type": "code",
   "execution_count": null,
   "id": "6b25d854",
   "metadata": {},
   "outputs": [],
   "source": []
  },
  {
   "cell_type": "code",
   "execution_count": null,
   "id": "4342ae62",
   "metadata": {},
   "outputs": [],
   "source": [
    "# Put all data from Lake Suwa in the variable suwa,\n",
    "suwa = lake_table[lake_table.lakename == 'LAKE SUWA']\n",
    "suwa.head()\n",
    "\n",
    "# By looking at the first few entries, we'll recall that Lake Suwa \n",
    "# is unique because it has records going back to the year 1443"
   ]
  },
  {
   "cell_type": "code",
   "execution_count": null,
   "id": "6dfe3888",
   "metadata": {},
   "outputs": [],
   "source": [
    "def reformat_dates( lake_table ):\n",
    "    '''\n",
    "    Date variables are sort of awful in python. This function reformats dates.\n",
    "    INPUT: a DataFrame of dates in the format of the frozen lake dataset\n",
    "    OUTPUT: year, freeze_day; year is the year, freeze_day is the day that the lake froze,\n",
    "        measured in the number of days since November 1 of a given year)\n",
    "    '''\n",
    "    import datetime\n",
    "\n",
    "    year = []\n",
    "    freeze_day= []\n",
    "\n",
    "    for y,m,d in zip( lake_table.iceon_year,lake_table.iceon_month, lake_table.iceon_day ):\n",
    "        if y > -999:\n",
    "            days_from_nov1 = datetime.datetime(y,m,d) - datetime.datetime(y,11,1)\n",
    "            freeze_day.append(days_from_nov1.total_seconds()/86400)\n",
    "            year.append(y)\n",
    "\n",
    "    year = np.array(year)\n",
    "    freeze_day = np.array(freeze_day)\n",
    "    return year, freeze_day"
   ]
  },
  {
   "cell_type": "code",
   "execution_count": null,
   "id": "25447a00",
   "metadata": {},
   "outputs": [],
   "source": [
    "# call the function\n",
    "year, freeze_day = reformat_dates( suwa )"
   ]
  },
  {
   "cell_type": "code",
   "execution_count": null,
   "id": "6e85235d",
   "metadata": {},
   "outputs": [],
   "source": [
    "# Plot the freezing days\n",
    "plt.subplots(figsize=(16,9))\n",
    "plt.plot(year,freeze_day,'o',label='Year with lake freeze',alpha=0.5)\n",
    "plt.plot(year[freeze_day<0],-1*np.ones_like(year[freeze_day<0]),'or',label=\"Year without lake freeze\",alpha=0.5)\n",
    "plt.ylim([-2,70])\n",
    "plt.xlim([1400,2100])\n",
    "plt.ylabel('Days since Nobember 1')\n",
    "plt.legend()\n",
    "plt.show()"
   ]
  },
  {
   "cell_type": "markdown",
   "id": "4dabac78",
   "metadata": {},
   "source": [
    "# Fit a simple machine learning model\n",
    "\n",
    "The goal of \"supervised\" machine learning is to find a relationship between _features_ in the data and _labels_.\n",
    "\n",
    "For our problem, let's just assume that the features are the _year_ and the _labels_ are the freezing day.\n",
    "\n",
    "The simplest possible machine learning model consists of a straight line fit between pairs of (x,y) data. The process of fitting a straight line is called _linear regression_. "
   ]
  },
  {
   "cell_type": "code",
   "execution_count": null,
   "id": "b50d09bb",
   "metadata": {},
   "outputs": [],
   "source": [
    "# Carry out linear regression\n",
    "\n",
    "from scipy.stats import linregress\n",
    "\n",
    "features = year[freeze_day>0]\n",
    "labels = freeze_day[freeze_day>0]\n",
    "\n",
    "output = linregress( features , labels)\n",
    "output"
   ]
  },
  {
   "cell_type": "code",
   "execution_count": null,
   "id": "1833d6f4",
   "metadata": {
    "scrolled": false
   },
   "outputs": [],
   "source": [
    "# Plot the result\n",
    "plt.subplots(figsize=(16,9))\n",
    "plt.plot(year,freeze_day,'o')\n",
    "plt.plot(year,year*output.slope + output.intercept)\n",
    "plt.ylim([0,70])\n",
    "plt.xlim([1400,2100])\n",
    "plt.ylabel('Days since Nobember 1')\n",
    "plt.show()"
   ]
  },
  {
   "cell_type": "markdown",
   "id": "d631acd9",
   "metadata": {},
   "source": [
    "How is the freezing day changing? The _slope_ of the straight line answers this question.  It gives us the answer in with units of \"days per year\" of change.  The numerical value of the slope is given in the output of the linear regression, above."
   ]
  },
  {
   "cell_type": "markdown",
   "id": "4674678c",
   "metadata": {},
   "source": [
    "# How many ice free years?\n",
    "\n",
    "With any machine learning model, it's always important to consider which data went into the analysis and which data was excluded.  In the above linear regression, we ignored years that the lake didn't freeze (because this doesn't fit neatly within the linear model).  \n",
    "\n",
    "To account for the frozen versus non-frozen years, let's calculate the _probability_ of the lake freezing."
   ]
  },
  {
   "cell_type": "code",
   "execution_count": null,
   "id": "411b7829",
   "metadata": {},
   "outputs": [],
   "source": [
    "number_of_freezing_years = sum(freeze_day>0)\n",
    "total_number_of_years = len(freeze_day)\n",
    "probability = number_of_freezing_years / total_number_of_years\n",
    "print(probability)"
   ]
  },
  {
   "cell_type": "markdown",
   "id": "83b2cd97",
   "metadata": {},
   "source": [
    "In the assignment, you'll be asked to calculate the probability of freezing over a specific range of years.  **You can select certain years out of the dataframe using the syntax ```freeze_day[ some_condition ]```**."
   ]
  },
  {
   "cell_type": "code",
   "execution_count": null,
   "id": "b3d93019",
   "metadata": {},
   "outputs": [],
   "source": []
  },
  {
   "cell_type": "code",
   "execution_count": null,
   "id": "606082ba",
   "metadata": {},
   "outputs": [],
   "source": []
  }
 ],
 "metadata": {
  "kernelspec": {
   "display_name": "Python 3",
   "language": "python",
   "name": "python3"
  },
  "language_info": {
   "codemirror_mode": {
    "name": "ipython",
    "version": 3
   },
   "file_extension": ".py",
   "mimetype": "text/x-python",
   "name": "python",
   "nbconvert_exporter": "python",
   "pygments_lexer": "ipython3",
   "version": "3.9.13"
  }
 },
 "nbformat": 4,
 "nbformat_minor": 5
}
